{
 "cells": [
  {
   "cell_type": "code",
   "execution_count": null,
   "metadata": {},
   "outputs": [],
   "source": [
    "# Wiki data Preprocess:\n",
    "#\n",
    "# 1. Extract wiki data\n",
    "#    $ python WikiExtractor.py -b 1024M -o extracted zhwiki-20181101-pages-articles.xml.bz2\n",
    "#\n",
    "# 2. Covert traditional chinese to simplified chinese\n",
    "#    Using opencc\n",
    "#    $ opencc -i wiki_00 -o zh_wiki_00 -c zht2zhs.ini\n",
    "#    $ opencc -i wiki_01 -o zh_wiki_01 -c zht2zhs.ini\n",
    "#\n",
    "# 3. Replace special characters\n",
    "#    import re\n",
    "#    import sys\n",
    "#    import codecs\n",
    "#    def myfun(input_file):\n",
    "#        p1 = re.compile(r'-\\{.*?(zh-hans|zh-cn):([^;]*?)(;.*?)?\\}-')\n",
    "#        p2 = re.compile(r'[（\\(][，；。？！\\s]*[）\\)]')\n",
    "#        p3 = re.compile(r'[「『]')\n",
    "#        p4 = re.compile(r'[」』]')\n",
    "#        outfile = codecs.open('std_' + input_file, 'w', 'utf-8')\n",
    "#        with codecs.open(input_file, 'r', 'utf-8') as myfile:\n",
    "#            for line in myfile:\n",
    "#                line = p1.sub(r'\\2', line)\n",
    "#                line = p2.sub(r'', line)\n",
    "#                line = p3.sub(r'“', line)\n",
    "#                line = p4.sub(r'”', line)\n",
    "#                outfile.write(line)\n",
    "#        outfile.close()\n",
    "#    if __name__ == '__main__':\n",
    "#        if len(sys.argv) != 2:\n",
    "#            print(\"Usage: python script.py inputfile\")\n",
    "#            sys.exit()\n",
    "#        input_file = sys.argv[1]\n",
    "#        myfun(input_file)\n",
    "#\n",
    "# 4. Remove special lines start with '<', i.e. '<doc id****', '<\\doc>'\n",
    "#    import re\n",
    "#    import codecs\n",
    "#    import sys\n",
    "#\n",
    "#    r1 = re.compile(r'^<')\n",
    "#\n",
    "#    def pre(input_file):\n",
    "#        outfile = codecs.open(input_file + '_pre', 'w', 'utf-8')\n",
    "#        with codecs.open(input_file, 'r', 'utf-8') as myfile:\n",
    "#            for line in myfile:\n",
    "#                if re.match(r1, line):\n",
    "#                    pass\n",
    "#                else:\n",
    "#                    outfile.write(line)\n",
    "#        outfile.close()\n",
    "#\n",
    "#    if __name__ == '__main__':\n",
    "#        if len(sys.argv) != 2:\n",
    "#            sys.exit()\n",
    "#\n",
    "#        pre(sys.argv[1])"
   ]
  },
  {
   "cell_type": "code",
   "execution_count": 1,
   "metadata": {},
   "outputs": [],
   "source": [
    "from collections import Counter\n",
    "from matplotlib.pyplot import xscale, yscale, plot, title\n",
    "from functools import reduce\n",
    "import re\n",
    "import time\n",
    "import copy\n",
    "import jieba"
   ]
  },
  {
   "cell_type": "code",
   "execution_count": 2,
   "metadata": {},
   "outputs": [],
   "source": [
    "def tokenize(string):\n",
    "    return ''.join(re.findall('[\\w|\\d]+', string))"
   ]
  },
  {
   "cell_type": "code",
   "execution_count": 3,
   "metadata": {},
   "outputs": [],
   "source": [
    "def get_prob_from_counter(counter):\n",
    "    all_occurs = sum(counter.values())\n",
    "\n",
    "    def get_item_prob(item):\n",
    "        return counter[item] / all_occurs\n",
    "\n",
    "    return get_item_prob"
   ]
  },
  {
   "cell_type": "code",
   "execution_count": 4,
   "metadata": {},
   "outputs": [],
   "source": [
    "def get_running_time(func, args, times):\n",
    "    start_time = time.time()\n",
    "    for i in range(times):\n",
    "        func(args)\n",
    "    print('{} elapsed time: {}'.format(func.__name__, (time.time() - start_time) / times))"
   ]
  },
  {
   "cell_type": "code",
   "execution_count": 5,
   "metadata": {},
   "outputs": [],
   "source": [
    "def mult_func(a, b):\n",
    "    return a * b"
   ]
  },
  {
   "cell_type": "code",
   "execution_count": 6,
   "metadata": {},
   "outputs": [],
   "source": [
    "def get_string_probablity(func, string):\n",
    "    return reduce(mult_func, [func(s) for s in string])"
   ]
  },
  {
   "cell_type": "code",
   "execution_count": 7,
   "metadata": {},
   "outputs": [],
   "source": [
    "def get_probability_performance(prob_func, func, pairs):\n",
    "    for (p1, p2) in pairs:\n",
    "        print('{} with probablity: {}'.format(p1, prob_func(func, tokenize(p1))))\n",
    "        print('{} with probablity: {}'.format(p2, prob_func(func, tokenize(p2))))\n",
    "        print('')"
   ]
  },
  {
   "cell_type": "code",
   "execution_count": 8,
   "metadata": {},
   "outputs": [],
   "source": [
    "# N-gram counter\n",
    "def gen_n_gram_counter(string, gram_n=2):\n",
    "    return Counter([''.join(string[i:i + gram_n]) for i in range(len(string) - gram_n + 1)])"
   ]
  },
  {
   "cell_type": "code",
   "execution_count": 9,
   "metadata": {},
   "outputs": [],
   "source": [
    "# Good–Turing frequency estimation\n",
    "def gen_gd_counter(counter):\n",
    "    counter_counter = Counter([n for (w, n) in counter.items()])\n",
    "    # deep copy\n",
    "    new_counter = copy.deepcopy(counter)\n",
    "    for (w, n) in counter.items():\n",
    "        if n < 8:\n",
    "            new_counter[w] = (n + 1) * counter_counter[n + 1] / counter_counter[n]\n",
    "    return new_counter"
   ]
  },
  {
   "cell_type": "code",
   "execution_count": 10,
   "metadata": {},
   "outputs": [],
   "source": [
    "def get_two_gram_gd_prob(counter1, counter2, pairs, content):\n",
    "    counter1_gd = gen_gd_counter(counter1)\n",
    "    counter2_gd = gen_gd_counter(counter2)\n",
    "\n",
    "    get_uni_prob = get_prob_from_counter(counter1_gd)\n",
    "    get_pair_prob = get_prob_from_counter(counter2_gd)\n",
    "\n",
    "    # def get_2_gram_prob(word, prev):\n",
    "    #     if get_pair_prob(prev + word) > 0:\n",
    "    #         return get_pair_prob(prev + word) / get_uni_prob(prev)\n",
    "    #     else:\n",
    "    #         return get_uni_prob(word)\n",
    "    #\n",
    "    # def get_2_gram_string_prob(string):\n",
    "    #     probablities = []\n",
    "    #     for i, c in enumerate(string):\n",
    "    #         prev = '<s>' if i == 0 else string[i - 1]\n",
    "    #         probablities.append(get_2_gram_prob(c, prev))\n",
    "    #     return reduce(mult_func, probablities)\n",
    "    #\n",
    "    # for (p1, p2) in pairs:\n",
    "    #     print('{} with probablity: {}'.format(p1, get_2_gram_string_prob(tokenize(p1))))\n",
    "    #     print('{} with probablity: {}'.format(p2, get_2_gram_string_prob(tokenize(p2))))\n",
    "    #     print('')\n",
    "\n",
    "    N_total = sum(counter2.values())\n",
    "    N_seen = sum(counter2_gd.values())\n",
    "\n",
    "    def get_prob(validate_str):\n",
    "        probs = []\n",
    "        unseens = []\n",
    "        for i in range(1, len(validate_str)):\n",
    "            cur = validate_str[i - 1:i + 1]\n",
    "            if cur not in content:\n",
    "                unseens.append(cur)\n",
    "            else:\n",
    "                prob = get_pair_prob(cur) / get_uni_prob(cur[0])\n",
    "                probs.append(prob)\n",
    "\n",
    "        print('probs 1: ', probs)\n",
    "\n",
    "        unseens_counter = Counter(unseens)\n",
    "        N_unseen = sum(unseens_counter.values())\n",
    "        unseens_prob = 1 - N_seen / N_total\n",
    "\n",
    "        for (w, c) in unseens_counter.items():\n",
    "            probs.append(c * unseens_prob / N_unseen)\n",
    "\n",
    "        print('probs 2: ', probs)\n",
    "\n",
    "        ret = reduce(mult_func, probs)\n",
    "        return ret\n",
    "\n",
    "    for (p1, p2) in pairs:\n",
    "        print('{} with probablity: {}'.format(p1, get_prob(tokenize(p1))))\n",
    "        print('{} with probablity: {}'.format(p2, get_prob(tokenize(p2))))\n",
    "        print('')"
   ]
  },
  {
   "cell_type": "code",
   "execution_count": 11,
   "metadata": {},
   "outputs": [],
   "source": [
    "pair1 = \"\"\"前天晚上吃晚饭的时候\n",
    "前天晚上吃早饭的时候\"\"\".split('\\n')\n",
    "\n",
    "pair2 = \"\"\"正是一个好看的小猫\n",
    "真是一个好看的小猫\"\"\".split('\\n')\n",
    "\n",
    "pair3 = \"\"\"我无言以对，简直\n",
    "我简直无言以对东磁哇啦嚄\"\"\".split('\\n')\n",
    "\n",
    "pairs = [pair1, pair2, pair3]"
   ]
  },
  {
   "cell_type": "code",
   "execution_count": 13,
   "metadata": {},
   "outputs": [],
   "source": [
    "filename = 'std_zh_wiki_01_pre'\n",
    "with open(filename, encoding='utf-8') as f:\n",
    "    all_content = f.read()"
   ]
  },
  {
   "cell_type": "code",
   "execution_count": 14,
   "metadata": {},
   "outputs": [],
   "source": [
    "all_content = tokenize(all_content)"
   ]
  },
  {
   "cell_type": "code",
   "execution_count": 15,
   "metadata": {},
   "outputs": [],
   "source": [
    "uni_gram_counter = Counter(all_content)"
   ]
  },
  {
   "cell_type": "code",
   "execution_count": 16,
   "metadata": {},
   "outputs": [
    {
     "data": {
      "text/plain": [
       "[('的', 1482263),\n",
       " ('1', 1061143),\n",
       " ('0', 786566),\n",
       " ('年', 725511),\n",
       " ('2', 681995),\n",
       " ('在', 493794),\n",
       " ('一', 468766),\n",
       " ('人', 455999),\n",
       " ('为', 449511),\n",
       " ('9', 445277)]"
      ]
     },
     "execution_count": 16,
     "metadata": {},
     "output_type": "execute_result"
    }
   ],
   "source": [
    "uni_gram_counter.most_common(10)"
   ]
  },
  {
   "cell_type": "code",
   "execution_count": 18,
   "metadata": {},
   "outputs": [
    {
     "data": {
      "text/plain": [
       "[<matplotlib.lines.Line2D at 0x2a0982c64e0>]"
      ]
     },
     "execution_count": 18,
     "metadata": {},
     "output_type": "execute_result"
    },
    {
     "data": {
      "image/png": "[encoded data removed]",
      "text/plain": [
       "<Figure size 432x288 with 1 Axes>"
      ]
     },
     "metadata": {
      "needs_background": "light"
     },
     "output_type": "display_data"
    }
   ],
   "source": [
    "M = uni_gram_counter.most_common()[0][1]\n",
    "len(uni_gram_counter)\n",
    "\n",
    "xscale('log')\n",
    "yscale('log')\n",
    "\n",
    "plot([c for (w, c) in uni_gram_counter.most_common()])\n",
    "plot([M / i for i in range(1, len(uni_gram_counter) + 1)])"
   ]
  },
  {
   "cell_type": "code",
   "execution_count": 19,
   "metadata": {},
   "outputs": [],
   "source": [
    "get_item_prob = get_prob_from_counter(uni_gram_counter)"
   ]
  },
  {
   "cell_type": "code",
   "execution_count": 20,
   "metadata": {},
   "outputs": [
    {
     "data": {
      "text/plain": [
       "0.023896122094417847"
      ]
     },
     "execution_count": 20,
     "metadata": {},
     "output_type": "execute_result"
    }
   ],
   "source": [
    "get_item_prob('的')"
   ]
  },
  {
   "cell_type": "code",
   "execution_count": 21,
   "metadata": {},
   "outputs": [
    {
     "name": "stdout",
     "output_type": "stream",
     "text": [
      "get_item_prob elapsed time: 2.4932384490966794e-07\n"
     ]
    }
   ],
   "source": [
    "get_running_time(get_item_prob, '的', 100000)"
   ]
  },
  {
   "cell_type": "code",
   "execution_count": 22,
   "metadata": {},
   "outputs": [
    {
     "data": {
      "text/plain": [
       "2.1028840323444115e-13"
      ]
     },
     "execution_count": 22,
     "metadata": {},
     "output_type": "execute_result"
    }
   ],
   "source": [
    "get_string_probablity(get_item_prob, '你好吗')\n",
    "get_string_probablity(get_item_prob, '你坏吗')"
   ]
  },
  {
   "cell_type": "code",
   "execution_count": 23,
   "metadata": {},
   "outputs": [
    {
     "name": "stdout",
     "output_type": "stream",
     "text": [
      "前天晚上吃晚饭的时候 with probablity: 8.269947669539467e-33\n",
      "前天晚上吃早饭的时候 with probablity: 1.3028536227443667e-32\n",
      "\n",
      "正是一个好看的小猫 with probablity: 2.550728876961171e-26\n",
      "真是一个好看的小猫 with probablity: 7.251389832001185e-27\n",
      "\n",
      "我无言以对，简直 with probablity: 9.706729497120774e-23\n",
      "我简直无言以对东磁哇啦嚄 with probablity: 0.0\n",
      "\n"
     ]
    }
   ],
   "source": [
    "get_probability_performance(get_string_probablity, get_item_prob, pairs)"
   ]
  },
  {
   "cell_type": "code",
   "execution_count": 24,
   "metadata": {},
   "outputs": [
    {
     "name": "stdout",
     "output_type": "stream",
     "text": [
      "[('20', 320660), ('19', 240998), ('01', 226603), ('00', 172892), ('年1', 96718), ('10', 94901), ('一个', 82197), ('18', 80999), ('位于', 80196), ('公里', 77125)]\n",
      "probs 1:  [0.00048471609880093667, 0.0048014224284043065, 0.21617585047150678, 0.00011475021000232553, 0.0073663424563852236, 0.0024307629363362828, 0.02500032414718471, 0.005416394037261286, 0.025349403481688175]\n",
      "probs 2:  [0.00048471609880093667, 0.0048014224284043065, 0.21617585047150678, 0.00011475021000232553, 0.0073663424563852236, 0.0024307629363362828, 0.02500032414718471, 0.005416394037261286, 0.025349403481688175]\n",
      "前天晚上吃晚饭的时候 with probablity: 3.548429425045409e-21\n",
      "probs 1:  [0.00048471609880093667, 0.0048014224284043065, 0.21617585047150678, 0.00011475021000232553, 0.005831687777971635, 0.00028546707279492094, 0.02500032414718471, 0.005416394037261286, 0.025349403481688175]\n",
      "probs 2:  [0.00048471609880093667, 0.0048014224284043065, 0.21617585047150678, 0.00011475021000232553, 0.005831687777971635, 0.00028546707279492094, 0.02500032414718471, 0.005416394037261286, 0.025349403481688175]\n",
      "前天晚上吃早饭的时候 with probablity: 3.299073165303359e-22\n",
      "\n",
      "probs 1:  [0.014350882269586052, 0.10407860074996671, 0.17701268900412423, 0.0010069005209839116, 0.002963042941754791, 0.014937922803142817, 0.0038397623012799103, 0.0009667816752624971]\n",
      "probs 2:  [0.014350882269586052, 0.10407860074996671, 0.17701268900412423, 0.0010069005209839116, 0.002963042941754791, 0.014937922803142817, 0.0038397623012799103, 0.0009667816752624971]\n",
      "正是一个好看的小猫 with probablity: 4.3741323372058976e-17\n",
      "probs 1:  [0.0075008640363424875, 0.10407860074996671, 0.17701268900412423, 0.0010069005209839116, 0.002963042941754791, 0.014937922803142817, 0.0038397623012799103, 0.0009667816752624971]\n",
      "probs 2:  [0.0075008640363424875, 0.10407860074996671, 0.17701268900412423, 0.0010069005209839116, 0.002963042941754791, 0.014937922803142817, 0.0038397623012799103, 0.0009667816752624971]\n",
      "真是一个好看的小猫 with probablity: 2.2862546930570577e-17\n",
      "\n",
      "probs 1:  [0.0014663161794951879, 0.001825118483962048, 0.006549556298008831, 0.002485893207538142, 0.0004690311980023502, 0.007443859079514862]\n",
      "probs 2:  [0.0014663161794951879, 0.001825118483962048, 0.006549556298008831, 0.002485893207538142, 0.0004690311980023502, 0.007443859079514862]\n",
      "我无言以对，简直 with probablity: 1.5212931555632263e-16\n",
      "probs 1:  [0.00014942723573839806, 0.007443859079514862, 0.0013280766829479572, 0.001825118483962048, 0.006549556298008831, 0.002485893207538142, 0.0017166541846886016, 5.524295308462837e-06]\n",
      "probs 2:  [0.00014942723573839806, 0.007443859079514862, 0.0013280766829479572, 0.001825118483962048, 0.006549556298008831, 0.002485893207538142, 0.0017166541846886016, 5.524295308462837e-06, 0.0031380047809091613, 0.0031380047809091613, 0.0031380047809091613]\n",
      "我简直无言以对东磁哇啦嚄 with probablity: 1.2863435508657735e-32\n",
      "\n"
     ]
    }
   ],
   "source": [
    "# 2-gram\n",
    "two_gram_counter = gen_n_gram_counter(all_content)\n",
    "print(two_gram_counter.most_common(10))\n",
    "get_two_gram_gd_prob(uni_gram_counter, two_gram_counter, pairs, all_content)"
   ]
  },
  {
   "cell_type": "code",
   "execution_count": null,
   "metadata": {},
   "outputs": [],
   "source": []
  }
 ],
 "metadata": {
  "kernelspec": {
   "display_name": "Python 3",
   "language": "python",
   "name": "python3"
  },
  "language_info": {
   "codemirror_mode": {
    "name": "ipython",
    "version": 3
   },
   "file_extension": ".py",
   "mimetype": "text/x-python",
   "name": "python",
   "nbconvert_exporter": "python",
   "pygments_lexer": "ipython3",
   "version": "3.6.7"
  }
 },
 "nbformat": 4,
 "nbformat_minor": 2
}
