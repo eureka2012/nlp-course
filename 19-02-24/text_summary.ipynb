{
 "cells": [
  {
   "cell_type": "code",
   "execution_count": 139,
   "metadata": {},
   "outputs": [],
   "source": [
    "import pandas as pd\n",
    "import os\n",
    "import re\n",
    "import numpy as np\n",
    "from collections import Counter\n",
    "from gensim.models import FastText\n",
    "import jieba\n",
    "import networkx as nx\n",
    "import math\n",
    "from gensim.models.word2vec import LineSentence\n",
    "from sklearn.metrics.pairwise import cosine_similarity\n",
    "from functools import partial"
   ]
  },
  {
   "cell_type": "code",
   "execution_count": 2,
   "metadata": {
    "scrolled": true
   },
   "outputs": [
    {
     "data": {
      "text/html": [
       "<div>\n",
       "<style scoped>\n",
       "    .dataframe tbody tr th:only-of-type {\n",
       "        vertical-align: middle;\n",
       "    }\n",
       "\n",
       "    .dataframe tbody tr th {\n",
       "        vertical-align: top;\n",
       "    }\n",
       "\n",
       "    .dataframe thead th {\n",
       "        text-align: right;\n",
       "    }\n",
       "</style>\n",
       "<table border=\"1\" class=\"dataframe\">\n",
       "  <thead>\n",
       "    <tr style=\"text-align: right;\">\n",
       "      <th></th>\n",
       "      <th>id</th>\n",
       "      <th>author</th>\n",
       "      <th>source</th>\n",
       "      <th>content</th>\n",
       "      <th>feature</th>\n",
       "      <th>title</th>\n",
       "      <th>url</th>\n",
       "    </tr>\n",
       "  </thead>\n",
       "  <tbody>\n",
       "    <tr>\n",
       "      <th>0</th>\n",
       "      <td>89617</td>\n",
       "      <td>NaN</td>\n",
       "      <td>快科技@http://www.kkj.cn/</td>\n",
       "      <td>此外，自本周（6月12日）起，除小米手机6等15款机型外，其余机型已暂停更新发布（含开发版/...</td>\n",
       "      <td>{\"type\":\"科技\",\"site\":\"cnbeta\",\"commentNum\":\"37\"...</td>\n",
       "      <td>小米MIUI 9首批机型曝光：共计15款</td>\n",
       "      <td>http://www.cnbeta.com/articles/tech/623597.htm</td>\n",
       "    </tr>\n",
       "    <tr>\n",
       "      <th>1</th>\n",
       "      <td>89616</td>\n",
       "      <td>NaN</td>\n",
       "      <td>快科技@http://www.kkj.cn/</td>\n",
       "      <td>骁龙835作为唯一通过Windows 10桌面平台认证的ARM处理器，高通强调，不会因为只考...</td>\n",
       "      <td>{\"type\":\"科技\",\"site\":\"cnbeta\",\"commentNum\":\"15\"...</td>\n",
       "      <td>骁龙835在Windows 10上的性能表现有望改善</td>\n",
       "      <td>http://www.cnbeta.com/articles/tech/623599.htm</td>\n",
       "    </tr>\n",
       "    <tr>\n",
       "      <th>2</th>\n",
       "      <td>89615</td>\n",
       "      <td>NaN</td>\n",
       "      <td>快科技@http://www.kkj.cn/</td>\n",
       "      <td>此前的一加3T搭载的是3400mAh电池，DashCharge快充规格为5V/4A。\\r\\n...</td>\n",
       "      <td>{\"type\":\"科技\",\"site\":\"cnbeta\",\"commentNum\":\"18\"...</td>\n",
       "      <td>一加手机5细节曝光：3300mAh、充半小时用1天</td>\n",
       "      <td>http://www.cnbeta.com/articles/tech/623601.htm</td>\n",
       "    </tr>\n",
       "    <tr>\n",
       "      <th>3</th>\n",
       "      <td>89614</td>\n",
       "      <td>NaN</td>\n",
       "      <td>新华社</td>\n",
       "      <td>这是6月18日在葡萄牙中部大佩德罗冈地区拍摄的被森林大火烧毁的汽车。新华社记者张立云摄\\r\\n</td>\n",
       "      <td>{\"type\":\"国际新闻\",\"site\":\"环球\",\"commentNum\":\"0\",\"j...</td>\n",
       "      <td>葡森林火灾造成至少62人死亡 政府宣布进入紧急状态（组图）</td>\n",
       "      <td>http://world.huanqiu.com/hot/2017-06/10866126....</td>\n",
       "    </tr>\n",
       "    <tr>\n",
       "      <th>4</th>\n",
       "      <td>89613</td>\n",
       "      <td>胡淑丽_MN7479</td>\n",
       "      <td>深圳大件事</td>\n",
       "      <td>（原标题：44岁女子跑深圳约会网友被拒，暴雨中裸身奔走……）\\r\\n@深圳交警微博称：昨日清...</td>\n",
       "      <td>{\"type\":\"新闻\",\"site\":\"网易热门\",\"commentNum\":\"978\",...</td>\n",
       "      <td>44岁女子约网友被拒暴雨中裸奔 交警为其披衣相随</td>\n",
       "      <td>http://news.163.com/17/0618/00/CN617P3Q0001875...</td>\n",
       "    </tr>\n",
       "  </tbody>\n",
       "</table>\n",
       "</div>"
      ],
      "text/plain": [
       "      id      author                  source  \\\n",
       "0  89617         NaN  快科技@http://www.kkj.cn/   \n",
       "1  89616         NaN  快科技@http://www.kkj.cn/   \n",
       "2  89615         NaN  快科技@http://www.kkj.cn/   \n",
       "3  89614         NaN                     新华社   \n",
       "4  89613  胡淑丽_MN7479                   深圳大件事   \n",
       "\n",
       "                                             content  \\\n",
       "0  此外，自本周（6月12日）起，除小米手机6等15款机型外，其余机型已暂停更新发布（含开发版/...   \n",
       "1  骁龙835作为唯一通过Windows 10桌面平台认证的ARM处理器，高通强调，不会因为只考...   \n",
       "2  此前的一加3T搭载的是3400mAh电池，DashCharge快充规格为5V/4A。\\r\\n...   \n",
       "3    这是6月18日在葡萄牙中部大佩德罗冈地区拍摄的被森林大火烧毁的汽车。新华社记者张立云摄\\r\\n   \n",
       "4  （原标题：44岁女子跑深圳约会网友被拒，暴雨中裸身奔走……）\\r\\n@深圳交警微博称：昨日清...   \n",
       "\n",
       "                                             feature  \\\n",
       "0  {\"type\":\"科技\",\"site\":\"cnbeta\",\"commentNum\":\"37\"...   \n",
       "1  {\"type\":\"科技\",\"site\":\"cnbeta\",\"commentNum\":\"15\"...   \n",
       "2  {\"type\":\"科技\",\"site\":\"cnbeta\",\"commentNum\":\"18\"...   \n",
       "3  {\"type\":\"国际新闻\",\"site\":\"环球\",\"commentNum\":\"0\",\"j...   \n",
       "4  {\"type\":\"新闻\",\"site\":\"网易热门\",\"commentNum\":\"978\",...   \n",
       "\n",
       "                           title  \\\n",
       "0           小米MIUI 9首批机型曝光：共计15款   \n",
       "1     骁龙835在Windows 10上的性能表现有望改善   \n",
       "2      一加手机5细节曝光：3300mAh、充半小时用1天   \n",
       "3  葡森林火灾造成至少62人死亡 政府宣布进入紧急状态（组图）   \n",
       "4       44岁女子约网友被拒暴雨中裸奔 交警为其披衣相随   \n",
       "\n",
       "                                                 url  \n",
       "0     http://www.cnbeta.com/articles/tech/623597.htm  \n",
       "1     http://www.cnbeta.com/articles/tech/623599.htm  \n",
       "2     http://www.cnbeta.com/articles/tech/623601.htm  \n",
       "3  http://world.huanqiu.com/hot/2017-06/10866126....  \n",
       "4  http://news.163.com/17/0618/00/CN617P3Q0001875...  "
      ]
     },
     "execution_count": 2,
     "metadata": {},
     "output_type": "execute_result"
    }
   ],
   "source": [
    "news_data = pd.read_csv('../input/sqlResult_1558435.csv', encoding='gb18030')\n",
    "news_data.head()"
   ]
  },
  {
   "cell_type": "code",
   "execution_count": 3,
   "metadata": {},
   "outputs": [
    {
     "name": "stderr",
     "output_type": "stream",
     "text": [
      "Building prefix dict from the default dictionary ...\n",
      "Dumping model to file cache C:\\Users\\King\\AppData\\Local\\Temp\\jieba.cache\n",
      "Loading model cost 0.810 seconds.\n",
      "Prefix dict has been built succesfully.\n"
     ]
    }
   ],
   "source": [
    "# with open('corpus.txt', 'w', encoding='utf-8') as fout:\n",
    "#     for sent in news_data['content']:\n",
    "#         if pd.isna(sent):\n",
    "#             continue\n",
    "#         sent = re.sub(r'[\\r\\n]', '', sent)\n",
    "#         wl = jieba.lcut(sent)\n",
    "#         if wl:\n",
    "#             fout.write(' '.join(wl))\n",
    "#             fout.write('\\n')"
   ]
  },
  {
   "cell_type": "code",
   "execution_count": 31,
   "metadata": {
    "scrolled": true
   },
   "outputs": [],
   "source": [
    "len_arr = np.array([len(news_data['content'][i]) for i in range(100)])"
   ]
  },
  {
   "cell_type": "code",
   "execution_count": 36,
   "metadata": {},
   "outputs": [
    {
     "data": {
      "text/plain": [
       "array([ 177,  329,  216,   45, 1674, 1056,  657, 4093, 3665,  755,  169,\n",
       "       1467,  487,  774, 1137,  331,  293,  495,  289, 1707,  928, 2453,\n",
       "        761,  531,  423,  129,  678, 1536,  638, 3478, 1150, 1738,  136,\n",
       "        501,  242,  400,  327,  321,  523,   45, 1736,  662, 1133,  899,\n",
       "        241,  147, 2369, 1536, 3364,  596,  140,  161, 2520,  415, 1312,\n",
       "        376,  398,  749,  941,  359,  607, 1733,  625, 1248,  607, 1821,\n",
       "        830,  950,  960,  543, 1643, 1519,  527,  221,  109,  201,  210,\n",
       "        782,  622,  209,  999,  394,  246, 1049,  591,  620, 1032,  182,\n",
       "         69,  223, 2815, 2086,  289,  761,  584, 1153,  841, 5572,  928,\n",
       "        287])"
      ]
     },
     "execution_count": 36,
     "metadata": {},
     "output_type": "execute_result"
    }
   ],
   "source": [
    "len_arr"
   ]
  },
  {
   "cell_type": "code",
   "execution_count": 46,
   "metadata": {},
   "outputs": [
    {
     "data": {
      "text/plain": [
       "'上周周末，中超第13轮已经全部战罢，其中，广州恒大战胜贵州恒丰智诚，豪取联赛九连胜的同时继续领跑积分榜，队内的曾诚与张琳芃也入选了本轮中超的最佳阵容。\\r\\n门将：曾诚。尽管在国家队表现不佳，但回到俱乐部的曾诚仅用了一场比赛就为自己实现了正名。全场5次扑救则次次关键，而且，曾诚还扑出了耶拉维奇可能扳平比分的点球，力助恒大豪取九连胜。\\r\\n后卫：\\r\\n张琳芃，攻防俱佳的张莫斯，此役在防守端贡献6次解围、3次拦截和2次抢断。在进攻端，张琳芃则有4次传中和1次突破，并直接助攻了郜林打破僵局的进球。\\r\\n戈麦斯，这一轮他共做出了8次解围、3次拦截、1次抢断，作为队长出战的戈麦斯继续扮演着建业铁闸的角色。\\r\\n伊斯梅洛夫，本场面对气势汹汹的江苏苏宁，伊斯梅洛夫在防守端6次解围、3次抢断，此外还有3次封堵射门和1次拦截，是亚泰客场告捷的幕后英雄。\\r\\n李磊，京津德比中李磊送出5次抢断、3次拦截和1次解围的全面数据，而且他还助攻伊尔马兹取得进球。\\r\\n中场：\\r\\n姆比亚，本轮比赛，姆比亚在与权健中场核心维特塞尔的对抗中丝毫不落下风，最后时刻还用一记制胜球助华夏幸福继续取胜。\\r\\n张晓彬，出任后腰的张晓彬做出5次抢断、4次拦截，传球成功率超过90%，他在中场全面的表现也在赛后得到了好评。\\r\\n多奇卡尔,此役，多奇卡尔先是造成了对手的乌龙球，随后又巧妙助攻哈维尔破门锁定胜局，可以说是建业取胜的最大功臣之一。\\r\\n前锋：\\r\\n曹赟定，全场完成4次射门，并送出3次威胁传球，此外还有惊人的8次突破和12次传中，几乎凭借一己之力搅的力帆禁区天翻地覆。\\r\\n卡尔德克，跟曹赟定一样，本场比赛都是一传一射，而且卡尔德克的进攻桥头堡作用非常关键。\\r\\n塔尔德利，继上次出场梅开二度后，塔尔德利又在本轮独中两元。而且比赛中，“塔神”5次射门全部射正，向前传球居多的他，传球成功率竟然高达86%，毫无疑问，本赛季脱胎换骨的塔神已经成为了鲁能进攻中的大腿。\\r\\n此外，河南建业的新任主帅亚森被评选为本轮最佳教练。上任不过三天，亚森就帮助河南建业拿到了本赛季的第二场胜利，换帅如换刀，亚森可谓是救火教练的典范。\\r\\n你心目中，本轮的最佳球员是谁？\\r\\n'"
      ]
     },
     "execution_count": 46,
     "metadata": {},
     "output_type": "execute_result"
    }
   ],
   "source": [
    "news_data['content'][43]"
   ]
  },
  {
   "cell_type": "code",
   "execution_count": 165,
   "metadata": {},
   "outputs": [],
   "source": [
    "news = news_data['content'][43]"
   ]
  },
  {
   "cell_type": "code",
   "execution_count": 110,
   "metadata": {},
   "outputs": [],
   "source": [
    "def split_sentence(sent: str):\n",
    "    sent = re.sub(r'[\\r\\n]', '', sent)\n",
    "    ls = re.split('([，。？！,.])', sent)\n",
    "    pat = '，。？！,.'\n",
    "    sent_ids = []\n",
    "    symbol_ids = []\n",
    "    for i, s in enumerate(ls):\n",
    "        if s in pat:\n",
    "            symbol_ids.append(i)\n",
    "        else:\n",
    "            sent_ids.append(i)\n",
    "    return ls, sent_ids, symbol_ids\n",
    "\n",
    "#     st = []\n",
    "#     ls = re.split('，', sent)\n",
    "#     for i in range(len(ls)-1):\n",
    "#         ls[i] += '，'\n",
    "    \n",
    "#     for s in ls:\n",
    "#         lls = re.split('。', s)\n",
    "#         for i in range(len(lls)-1):\n",
    "#             lls[i] += '。'\n",
    "#         st += lls\n",
    "#     ret = []\n",
    "#     for s in st:\n",
    "#         ls = re.split(' ', s)\n",
    "#         ret += ls\n",
    "#     return ret\n",
    "    # return re.split(r'[，。,. ？！]', sent)"
   ]
  },
  {
   "cell_type": "code",
   "execution_count": 7,
   "metadata": {},
   "outputs": [],
   "source": [
    "# def split_sentence(sentence):\n",
    "#     pattern = re.compile('[。，,.]：')\n",
    "#     split = pattern.sub(' ', sentence).split()  # split sentence\n",
    "#     return split"
   ]
  },
  {
   "cell_type": "code",
   "execution_count": 106,
   "metadata": {},
   "outputs": [
    {
     "data": {
      "text/plain": [
       "['上周周末',\n",
       " '，',\n",
       " '中超第13轮已经全部战罢',\n",
       " '，',\n",
       " '其中',\n",
       " '，',\n",
       " '广州恒大战胜贵州恒丰智诚',\n",
       " '，',\n",
       " '豪取联赛九连胜的同时继续领跑积分榜',\n",
       " '，',\n",
       " '队内的曾诚与张琳芃也入选了本轮中超的最佳阵容',\n",
       " '。',\n",
       " '\\r\\n门将：曾诚',\n",
       " '。',\n",
       " '尽管在国家队表现不佳',\n",
       " '，',\n",
       " '但回到俱乐部的曾诚仅用了一场比赛就为自己实现了正名',\n",
       " '。',\n",
       " '全场5次扑救则次次关键',\n",
       " '，',\n",
       " '而且',\n",
       " '，',\n",
       " '曾诚还扑出了耶拉维奇可能扳平比分的点球',\n",
       " '，',\n",
       " '力助恒大豪取九连胜',\n",
       " '。',\n",
       " '\\r\\n后卫：\\r\\n张琳芃',\n",
       " '，',\n",
       " '攻防俱佳的张莫斯',\n",
       " '，',\n",
       " '此役在防守端贡献6次解围、3次拦截和2次抢断',\n",
       " '。',\n",
       " '在进攻端',\n",
       " '，',\n",
       " '张琳芃则有4次传中和1次突破',\n",
       " '，',\n",
       " '并直接助攻了郜林打破僵局的进球',\n",
       " '。',\n",
       " '\\r\\n戈麦斯',\n",
       " '，',\n",
       " '这一轮他共做出了8次解围、3次拦截、1次抢断',\n",
       " '，',\n",
       " '作为队长出战的戈麦斯继续扮演着建业铁闸的角色',\n",
       " '。',\n",
       " '\\r\\n伊斯梅洛夫',\n",
       " '，',\n",
       " '本场面对气势汹汹的江苏苏宁',\n",
       " '，',\n",
       " '伊斯梅洛夫在防守端6次解围、3次抢断',\n",
       " '，',\n",
       " '此外还有3次封堵射门和1次拦截',\n",
       " '，',\n",
       " '是亚泰客场告捷的幕后英雄',\n",
       " '。',\n",
       " '\\r\\n李磊',\n",
       " '，',\n",
       " '京津德比中李磊送出5次抢断、3次拦截和1次解围的全面数据',\n",
       " '，',\n",
       " '而且他还助攻伊尔马兹取得进球',\n",
       " '。',\n",
       " '\\r\\n中场：\\r\\n姆比亚',\n",
       " '，',\n",
       " '本轮比赛',\n",
       " '，',\n",
       " '姆比亚在与权健中场核心维特塞尔的对抗中丝毫不落下风',\n",
       " '，',\n",
       " '最后时刻还用一记制胜球助华夏幸福继续取胜',\n",
       " '。',\n",
       " '\\r\\n张晓彬',\n",
       " '，',\n",
       " '出任后腰的张晓彬做出5次抢断、4次拦截',\n",
       " '，',\n",
       " '传球成功率超过90%',\n",
       " '，',\n",
       " '他在中场全面的表现也在赛后得到了好评',\n",
       " '。',\n",
       " '\\r\\n多奇卡尔',\n",
       " ',',\n",
       " '此役',\n",
       " '，',\n",
       " '多奇卡尔先是造成了对手的乌龙球',\n",
       " '，',\n",
       " '随后又巧妙助攻哈维尔破门锁定胜局',\n",
       " '，',\n",
       " '可以说是建业取胜的最大功臣之一',\n",
       " '。',\n",
       " '\\r\\n前锋：\\r\\n曹赟定',\n",
       " '，',\n",
       " '全场完成4次射门',\n",
       " '，',\n",
       " '并送出3次威胁传球',\n",
       " '，',\n",
       " '此外还有惊人的8次突破和12次传中',\n",
       " '，',\n",
       " '几乎凭借一己之力搅的力帆禁区天翻地覆',\n",
       " '。',\n",
       " '\\r\\n卡尔德克',\n",
       " '，',\n",
       " '跟曹赟定一样',\n",
       " '，',\n",
       " '本场比赛都是一传一射',\n",
       " '，',\n",
       " '而且卡尔德克的进攻桥头堡作用非常关键',\n",
       " '。',\n",
       " '\\r\\n塔尔德利',\n",
       " '，',\n",
       " '继上次出场梅开二度后',\n",
       " '，',\n",
       " '塔尔德利又在本轮独中两元',\n",
       " '。',\n",
       " '而且比赛中',\n",
       " '，',\n",
       " '“塔神”5次射门全部射正',\n",
       " '，',\n",
       " '向前传球居多的他',\n",
       " '，',\n",
       " '传球成功率竟然高达86%',\n",
       " '，',\n",
       " '毫无疑问',\n",
       " '，',\n",
       " '本赛季脱胎换骨的塔神已经成为了鲁能进攻中的大腿',\n",
       " '。',\n",
       " '\\r\\n此外',\n",
       " '，',\n",
       " '河南建业的新任主帅亚森被评选为本轮最佳教练',\n",
       " '。',\n",
       " '上任不过三天',\n",
       " '，',\n",
       " '亚森就帮助河南建业拿到了本赛季的第二场胜利',\n",
       " '，',\n",
       " '换帅如换刀',\n",
       " '，',\n",
       " '亚森可谓是救火教练的典范',\n",
       " '。',\n",
       " '\\r\\n你心目中',\n",
       " '，',\n",
       " '本轮的最佳球员是谁',\n",
       " '？',\n",
       " '\\r\\n']"
      ]
     },
     "execution_count": 106,
     "metadata": {},
     "output_type": "execute_result"
    }
   ],
   "source": [
    "re.split('([，。？！,. ])', news)"
   ]
  },
  {
   "cell_type": "code",
   "execution_count": 108,
   "metadata": {},
   "outputs": [
    {
     "data": {
      "text/plain": [
       "(['上周周末，中超第13轮已经全部战罢，其中，广州恒大战胜贵州恒丰智诚，豪取联赛九连胜的同时继续领跑积分榜，队内的曾诚与张琳芃也入选了本轮中超的最佳阵容',\n",
       "  '。',\n",
       "  '门将：曾诚',\n",
       "  '。',\n",
       "  '尽管在国家队表现不佳，但回到俱乐部的曾诚仅用了一场比赛就为自己实现了正名',\n",
       "  '。',\n",
       "  '全场5次扑救则次次关键，而且，曾诚还扑出了耶拉维奇可能扳平比分的点球，力助恒大豪取九连胜',\n",
       "  '。',\n",
       "  '后卫：张琳芃，攻防俱佳的张莫斯，此役在防守端贡献6次解围、3次拦截和2次抢断',\n",
       "  '。',\n",
       "  '在进攻端，张琳芃则有4次传中和1次突破，并直接助攻了郜林打破僵局的进球',\n",
       "  '。',\n",
       "  '戈麦斯，这一轮他共做出了8次解围、3次拦截、1次抢断，作为队长出战的戈麦斯继续扮演着建业铁闸的角色',\n",
       "  '。',\n",
       "  '伊斯梅洛夫，本场面对气势汹汹的江苏苏宁，伊斯梅洛夫在防守端6次解围、3次抢断，此外还有3次封堵射门和1次拦截，是亚泰客场告捷的幕后英雄',\n",
       "  '。',\n",
       "  '李磊，京津德比中李磊送出5次抢断、3次拦截和1次解围的全面数据，而且他还助攻伊尔马兹取得进球',\n",
       "  '。',\n",
       "  '中场：姆比亚，本轮比赛，姆比亚在与权健中场核心维特塞尔的对抗中丝毫不落下风，最后时刻还用一记制胜球助华夏幸福继续取胜',\n",
       "  '。',\n",
       "  '张晓彬，出任后腰的张晓彬做出5次抢断、4次拦截，传球成功率超过90%，他在中场全面的表现也在赛后得到了好评',\n",
       "  '。',\n",
       "  '多奇卡尔',\n",
       "  ',',\n",
       "  '此役，多奇卡尔先是造成了对手的乌龙球，随后又巧妙助攻哈维尔破门锁定胜局，可以说是建业取胜的最大功臣之一',\n",
       "  '。',\n",
       "  '前锋：曹赟定，全场完成4次射门，并送出3次威胁传球，此外还有惊人的8次突破和12次传中，几乎凭借一己之力搅的力帆禁区天翻地覆',\n",
       "  '。',\n",
       "  '卡尔德克，跟曹赟定一样，本场比赛都是一传一射，而且卡尔德克的进攻桥头堡作用非常关键',\n",
       "  '。',\n",
       "  '塔尔德利，继上次出场梅开二度后，塔尔德利又在本轮独中两元',\n",
       "  '。',\n",
       "  '而且比赛中，“塔神”5次射门全部射正，向前传球居多的他，传球成功率竟然高达86%，毫无疑问，本赛季脱胎换骨的塔神已经成为了鲁能进攻中的大腿',\n",
       "  '。',\n",
       "  '此外，河南建业的新任主帅亚森被评选为本轮最佳教练',\n",
       "  '。',\n",
       "  '上任不过三天，亚森就帮助河南建业拿到了本赛季的第二场胜利，换帅如换刀，亚森可谓是救火教练的典范',\n",
       "  '。',\n",
       "  '你心目中，本轮的最佳球员是谁',\n",
       "  '？',\n",
       "  ''],\n",
       " [0, 2, 4, 6, 8, 10, 12, 14, 16, 18, 20, 22, 24, 26, 28, 30, 32, 34, 36, 38],\n",
       " [1,\n",
       "  3,\n",
       "  5,\n",
       "  7,\n",
       "  9,\n",
       "  11,\n",
       "  13,\n",
       "  15,\n",
       "  17,\n",
       "  19,\n",
       "  21,\n",
       "  23,\n",
       "  25,\n",
       "  27,\n",
       "  29,\n",
       "  31,\n",
       "  33,\n",
       "  35,\n",
       "  37,\n",
       "  39,\n",
       "  40])"
      ]
     },
     "execution_count": 108,
     "metadata": {},
     "output_type": "execute_result"
    }
   ],
   "source": [
    "split_sentence(news)"
   ]
  },
  {
   "cell_type": "code",
   "execution_count": 120,
   "metadata": {},
   "outputs": [],
   "source": [
    "def get_stop_words(file: str, encoding='utf-8'):\n",
    "    ret = [l for l in open(file, encoding=encoding).read()]\n",
    "    return ret"
   ]
  },
  {
   "cell_type": "code",
   "execution_count": 121,
   "metadata": {},
   "outputs": [],
   "source": [
    "def clean_sentences(sents: list, stop_words: list):\n",
    "    ret = {}\n",
    "    for i, sent in enumerate(sents):\n",
    "        words = jieba.lcut(sent)\n",
    "        wds = []\n",
    "        for w in words:\n",
    "            if w not in stop_words:\n",
    "                wds.append(w)\n",
    "        if wds:\n",
    "            ret[i] = wds\n",
    "    return ret"
   ]
  },
  {
   "cell_type": "code",
   "execution_count": 122,
   "metadata": {},
   "outputs": [],
   "source": [
    "def sentence_similarity_1(sent1, sent2):\n",
    "    ret = 0\n",
    "    same_cnt = 0\n",
    "    for w in sent1:\n",
    "        if w in sent2:\n",
    "            same_cnt += 1\n",
    "    ret = same_cnt / (math.log2(len(sent1)) + math.log2(len(sent2)) + 1)\n",
    "    return ret"
   ]
  },
  {
   "cell_type": "code",
   "execution_count": 123,
   "metadata": {},
   "outputs": [],
   "source": [
    "# Calculate sentence similarity by embedding vector\n",
    "def sentence_similarity_func(model, prob_func):\n",
    "    a = 0.001\n",
    "    col = model.wv.vector_size\n",
    "\n",
    "    def core(sent1, sent2):\n",
    "        vec1 = np.zeros(col)\n",
    "        vec2 = np.zeros(col)\n",
    "        for w in sent1:\n",
    "            pw = a / (a + prob_func(w))\n",
    "            vec1 += pw * model.wv[w]\n",
    "        for w in sent2:\n",
    "            pw = a / (a + prob_func(w))\n",
    "            vec2 += pw * model.wv[w]\n",
    "        ret = 0\n",
    "        ret = cosine_similarity(vec1.reshape(1,-1), vec2.reshape(1,-1))[0][0]\n",
    "        return ret\n",
    "    return core"
   ]
  },
  {
   "cell_type": "code",
   "execution_count": 130,
   "metadata": {},
   "outputs": [],
   "source": [
    "def sentence_embedding(model, prob_func, stop_words):\n",
    "    a = 0.001\n",
    "    col = model.wv.vector_size\n",
    "    \n",
    "    def core(sent):\n",
    "        vec = np.zeros(col)\n",
    "        words = jieba.lcut(sent)\n",
    "        for w in words:\n",
    "            if w in model.wv.vocab and w not in stop_words:\n",
    "                pw = a / (a + prob_func(w))\n",
    "                vec += pw * model.wv[w]\n",
    "        return vec\n",
    "    return core"
   ]
  },
  {
   "cell_type": "code",
   "execution_count": 125,
   "metadata": {},
   "outputs": [],
   "source": [
    "def get_prob(counter):\n",
    "    total_cnt = sum(counter.values())\n",
    "    def core(word: str):\n",
    "        return counter[word] / total_cnt\n",
    "    return core"
   ]
  },
  {
   "cell_type": "code",
   "execution_count": 9,
   "metadata": {},
   "outputs": [],
   "source": [
    "model = FastText(LineSentence('corpus.txt'), window=5, size=35, iter=10, min_count=1)"
   ]
  },
  {
   "cell_type": "code",
   "execution_count": null,
   "metadata": {},
   "outputs": [],
   "source": [
    "def gen_sim_mat(sent_dict: dict, sim_func):\n",
    "    size = len(sent_dict)\n",
    "    ret = np.zeros((size, size))\n",
    "    for i in range(size):\n",
    "        for j in range(size):\n",
    "            if i != j:\n",
    "                ret[i][j] = sim_func(sent_dict[i], sent_dict[j])\n",
    "    return ret"
   ]
  },
  {
   "cell_type": "code",
   "execution_count": null,
   "metadata": {},
   "outputs": [],
   "source": [
    "def get_final_sentence(sent_list, indices, word_cnt=200):\n",
    "    cur_cnt = 0\n",
    "    lst = []\n",
    "    for i in indices:\n",
    "        sent = sent_list[i]\n",
    "        size = len(sent)\n",
    "        cur_cnt += size\n",
    "        if cur_cnt < word_cnt:\n",
    "            lst.append(i)\n",
    "    ret = '。'.join([sent_list[i] for i in lst])\n",
    "    return ret"
   ]
  },
  {
   "cell_type": "code",
   "execution_count": 126,
   "metadata": {},
   "outputs": [],
   "source": [
    "stop_words = get_stop_words('../input/stop_words.txt')"
   ]
  },
  {
   "cell_type": "code",
   "execution_count": 159,
   "metadata": {},
   "outputs": [],
   "source": [
    "def get_correlations(sents, sent_vec_func):\n",
    "    text = ' '.join(sents)\n",
    "    text_vec = sent_vec_func(text)\n",
    "    sims = []\n",
    "    for sent in sents:\n",
    "        vec = sent_vec_func(sent)\n",
    "        sim = cosine_similarity(vec.reshape(1, -1), text_vec.reshape(1, -1))[0][0]\n",
    "        sims.append(sim)\n",
    "    ret = [(sents[ind], sims[ind]) for ind in sorted(range(len(sims)), key=lambda i: sims[i], reverse=True)]\n",
    "    return ret"
   ]
  },
  {
   "cell_type": "code",
   "execution_count": 132,
   "metadata": {},
   "outputs": [],
   "source": [
    "tokeners = []\n",
    "for line in open('corpus.txt', 'r', encoding='utf-8'):\n",
    "    tokeners += line.split()"
   ]
  },
  {
   "cell_type": "code",
   "execution_count": 133,
   "metadata": {},
   "outputs": [],
   "source": [
    "word_counter = Counter(tokeners)"
   ]
  },
  {
   "cell_type": "code",
   "execution_count": 134,
   "metadata": {},
   "outputs": [],
   "source": [
    "prob_func = get_prob(word_counter)"
   ]
  },
  {
   "cell_type": "code",
   "execution_count": 135,
   "metadata": {},
   "outputs": [],
   "source": [
    "get_sentence_vec = sentence_embedding(model, prob_func, stop_words)"
   ]
  },
  {
   "cell_type": "code",
   "execution_count": 161,
   "metadata": {},
   "outputs": [],
   "source": [
    "score_func_embed = partial(get_correlations, sent_vec_func=get_sentence_vec)"
   ]
  },
  {
   "cell_type": "code",
   "execution_count": 168,
   "metadata": {},
   "outputs": [
    {
     "data": {
      "text/plain": [
       "'曾诚还扑出了耶拉维奇可能扳平比分的点球，后卫：张琳芃，此役在防守端贡献6次解围、3次拦截和2次抢断。并直接助攻了郜林打破僵局的进球。而且他还助攻伊尔马兹取得进球。本轮比赛，姆比亚在与权健中场核心维特塞尔的对抗中丝毫不落下风，此役，随后又巧妙助攻哈维尔破门锁定胜局，全场完成4次射门，继上次出场梅开二度后，塔尔德利又在本轮独中两元。本赛季脱胎换骨的塔神已经成为了鲁能进攻中的大腿。亚森就帮助河南建业拿到了本赛季的第二场胜利，本轮的最佳球员是谁？'"
      ]
     },
     "execution_count": 168,
     "metadata": {},
     "output_type": "execute_result"
    }
   ],
   "source": [
    "get_summarization_simple(news, score_func_embed, 200)"
   ]
  },
  {
   "cell_type": "code",
   "execution_count": 136,
   "metadata": {},
   "outputs": [
    {
     "data": {
      "text/plain": [
       "array([ 0.9608598 ,  1.9616965 , -0.6550164 , -0.08581933,  0.4027366 ,\n",
       "       -0.49193567, -0.98731744, -1.1231472 , -2.2945056 , -2.0371764 ,\n",
       "        0.48530376,  0.99433416,  2.6392832 , -1.3752371 , -1.2738191 ,\n",
       "       -0.79540163, -0.5047238 , -0.8784493 ,  4.56962   , -2.9469717 ,\n",
       "        0.36588308, -0.81705254, -1.0014058 , -0.4530072 , -2.7770162 ,\n",
       "        0.30021167,  4.8232155 , -0.39225984, -0.9452708 , -1.5930241 ,\n",
       "       -0.7761965 , -1.1576653 , -0.6784643 ,  0.48199782,  1.961022  ],\n",
       "      dtype=float32)"
      ]
     },
     "execution_count": 136,
     "metadata": {},
     "output_type": "execute_result"
    }
   ],
   "source": [
    "model.wv['小米']"
   ]
  },
  {
   "cell_type": "code",
   "execution_count": 137,
   "metadata": {},
   "outputs": [
    {
     "data": {
      "text/plain": [
       "array([ 0.94877106,  1.93701601, -0.64677554, -0.08473962,  0.3976697 ,\n",
       "       -0.48574653, -0.97489583, -1.10901678, -2.26563811, -2.01154637,\n",
       "        0.47919807,  0.98182428,  2.60607791, -1.35793507, -1.25779295,\n",
       "       -0.78539455, -0.49837378, -0.86739743,  4.51212883, -2.90989542,\n",
       "        0.36127985, -0.80677307, -0.98880696, -0.44730783, -2.74207807,\n",
       "        0.29643464,  4.76253366, -0.38732475, -0.93337816, -1.57298207,\n",
       "       -0.76643103, -1.1431005 , -0.66992843,  0.47593373,  1.93635011])"
      ]
     },
     "execution_count": 137,
     "metadata": {},
     "output_type": "execute_result"
    }
   ],
   "source": [
    "get_sentence_vec('小米')"
   ]
  },
  {
   "cell_type": "code",
   "execution_count": 93,
   "metadata": {},
   "outputs": [],
   "source": [
    "def get_connect_graph_by_text_rank(tokenized_text, window=3):\n",
    "    keywords_graph = nx.Graph()\n",
    "    tokeners = tokenized_text\n",
    "    print(tokeners)\n",
    "    for ii, t in enumerate(tokeners):\n",
    "        word_tuples = [(tokeners[connect], t) \n",
    "                       for connect in range(ii-window, ii+window+1) \n",
    "                       if connect >= 0 and connect < len(tokeners)]\n",
    "        keywords_graph.add_edges_from(word_tuples)\n",
    "\n",
    "    return keywords_graph"
   ]
  },
  {
   "cell_type": "code",
   "execution_count": 94,
   "metadata": {},
   "outputs": [],
   "source": [
    "def get_summarization_simple_with_text_rank(text, constraint=200):\n",
    "    return get_summarization_simple(text, sentence_ranking_by_text_ranking, constraint)"
   ]
  },
  {
   "cell_type": "code",
   "execution_count": 95,
   "metadata": {},
   "outputs": [],
   "source": [
    "def sentence_ranking_by_text_ranking(split_sentence):\n",
    "    sentence_graph = get_connect_graph_by_text_rank(split_sentence)\n",
    "    ranking_sentence = nx.pagerank(sentence_graph)\n",
    "    ranking_sentence = sorted(ranking_sentence.items(), key=lambda x: x[1], reverse=True)\n",
    "    print(ranking_sentence)\n",
    "    return ranking_sentence"
   ]
  },
  {
   "cell_type": "code",
   "execution_count": 96,
   "metadata": {},
   "outputs": [],
   "source": [
    "def get_summarization_simple(text, score_fn, constraint=200):\n",
    "    sents, sent_ids, symb_ids = split_sentence(text)\n",
    "    sub_sentence = [sents[i] for i in sent_ids]\n",
    "    ranking_sentence = score_fn(sub_sentence)\n",
    "    selected_text = set()\n",
    "    current_text = ''\n",
    "    \n",
    "    for sen, _ in ranking_sentence:\n",
    "        if len(current_text) < constraint:\n",
    "            current_text += sen\n",
    "            selected_text.add(sen)\n",
    "        else:\n",
    "            break\n",
    "\n",
    "    summarized = []\n",
    "    for sen in sub_sentence:  # print the selected sentence by sequent\n",
    "        if sen in selected_text:\n",
    "            ind = sents.index(sen)\n",
    "            summarized.append(sen)\n",
    "            if (ind + 1) in symb_ids:\n",
    "                summarized.append(sents[ind + 1])\n",
    "    return ''.join(summarized)"
   ]
  },
  {
   "cell_type": "code",
   "execution_count": 167,
   "metadata": {},
   "outputs": [
    {
     "name": "stdout",
     "output_type": "stream",
     "text": [
      "['上周周末', '中超第13轮已经全部战罢', '其中', '广州恒大战胜贵州恒丰智诚', '豪取联赛九连胜的同时继续领跑积分榜', '队内的曾诚与张琳芃也入选了本轮中超的最佳阵容', '门将：曾诚', '尽管在国家队表现不佳', '但回到俱乐部的曾诚仅用了一场比赛就为自己实现了正名', '全场5次扑救则次次关键', '而且', '曾诚还扑出了耶拉维奇可能扳平比分的点球', '力助恒大豪取九连胜', '后卫：张琳芃', '攻防俱佳的张莫斯', '此役在防守端贡献6次解围、3次拦截和2次抢断', '在进攻端', '张琳芃则有4次传中和1次突破', '并直接助攻了郜林打破僵局的进球', '戈麦斯', '这一轮他共做出了8次解围、3次拦截、1次抢断', '作为队长出战的戈麦斯继续扮演着建业铁闸的角色', '伊斯梅洛夫', '本场面对气势汹汹的江苏苏宁', '伊斯梅洛夫在防守端6次解围、3次抢断', '此外还有3次封堵射门和1次拦截', '是亚泰客场告捷的幕后英雄', '李磊', '京津德比中李磊送出5次抢断、3次拦截和1次解围的全面数据', '而且他还助攻伊尔马兹取得进球', '中场：姆比亚', '本轮比赛', '姆比亚在与权健中场核心维特塞尔的对抗中丝毫不落下风', '最后时刻还用一记制胜球助华夏幸福继续取胜', '张晓彬', '出任后腰的张晓彬做出5次抢断、4次拦截', '传球成功率超过90%', '他在中场全面的表现也在赛后得到了好评', '多奇卡尔', '此役', '多奇卡尔先是造成了对手的乌龙球', '随后又巧妙助攻哈维尔破门锁定胜局', '可以说是建业取胜的最大功臣之一', '前锋：曹赟定', '全场完成4次射门', '并送出3次威胁传球', '此外还有惊人的8次突破和12次传中', '几乎凭借一己之力搅的力帆禁区天翻地覆', '卡尔德克', '跟曹赟定一样', '本场比赛都是一传一射', '而且卡尔德克的进攻桥头堡作用非常关键', '塔尔德利', '继上次出场梅开二度后', '塔尔德利又在本轮独中两元', '而且比赛中', '“塔神”5次射门全部射正', '向前传球居多的他', '传球成功率竟然高达86%', '毫无疑问', '本赛季脱胎换骨的塔神已经成为了鲁能进攻中的大腿', '此外', '河南建业的新任主帅亚森被评选为本轮最佳教练', '上任不过三天', '亚森就帮助河南建业拿到了本赛季的第二场胜利', '换帅如换刀', '亚森可谓是救火教练的典范', '你心目中', '本轮的最佳球员是谁']\n",
      "[('广州恒大战胜贵州恒丰智诚', 0.016104649077760408), ('换帅如换刀', 0.016104649077760404), ('豪取联赛九连胜的同时继续领跑积分榜', 0.01569717028504828), ('亚森就帮助河南建业拿到了本赛季的第二场胜利', 0.01569717028504828), ('队内的曾诚与张琳芃也入选了本轮中超的最佳阵容', 0.01539574011235065), ('上任不过三天', 0.015395740112350648), ('门将：曾诚', 0.015168876694046804), ('河南建业的新任主帅亚森被评选为本轮最佳教练', 0.015168876694046804), ('尽管在国家队表现不佳', 0.014998199197218464), ('此外', 0.014998199197218464), ('本赛季脱胎换骨的塔神已经成为了鲁能进攻中的大腿', 0.014870440610773588), ('但回到俱乐部的曾诚仅用了一场比赛就为自己实现了正名', 0.014870440610773587), ('毫无疑问', 0.014774381906894852), ('全场5次扑救则次次关键', 0.01477438190689485), ('传球成功率竟然高达86%', 0.014702222390250534), ('而且', 0.014702222390250532), ('向前传球居多的他', 0.014648086579061609), ('曾诚还扑出了耶拉维奇可能扳平比分的点球', 0.014648086579061605), ('“塔神”5次射门全部射正', 0.014607473276664937), ('力助恒大豪取九连胜', 0.014607473276664935), ('而且比赛中', 0.01457706614396121), ('后卫：张琳芃', 0.014577066143961209), ('攻防俱佳的张莫斯', 0.01455436059014794), ('塔尔德利又在本轮独中两元', 0.01455436059014794), ('此役在防守端贡献6次解围、3次拦截和2次抢断', 0.014537462106013876), ('继上次出场梅开二度后', 0.014537462106013876), ('塔尔德利', 0.014524944712988479), ('在进攻端', 0.014524944712988477), ('张琳芃则有4次传中和1次突破', 0.01451572623129886), ('而且卡尔德克的进攻桥头堡作用非常关键', 0.01451572623129886), ('并直接助攻了郜林打破僵局的进球', 0.014508984580893655), ('本场比赛都是一传一射', 0.014508984580893655), ('跟曹赟定一样', 0.01450409523980776), ('戈麦斯', 0.014504095239807759), ('这一轮他共做出了8次解围、3次拦截、1次抢断', 0.014500583152756744), ('卡尔德克', 0.014500583152756744), ('几乎凭借一己之力搅的力帆禁区天翻地覆', 0.014498087678199757), ('作为队长出战的戈麦斯继续扮演着建业铁闸的角色', 0.014498087678199755), ('伊斯梅洛夫', 0.014496336011885705), ('此外还有惊人的8次突破和12次传中', 0.014496336011885705), ('本场面对气势汹汹的江苏苏宁', 0.014495122860869625), ('并送出3次威胁传球', 0.014495122860869625), ('伊斯梅洛夫在防守端6次解围、3次抢断', 0.014494294918911833), ('全场完成4次射门', 0.014494294918911833), ('此外还有3次封堵射门和1次拦截', 0.014493738803976842), ('前锋：曹赟定', 0.01449373880397684), ('是亚泰客场告捷的幕后英雄', 0.014493371633163872), ('可以说是建业取胜的最大功臣之一', 0.01449337163316387), ('李磊', 0.014493133644808238), ('随后又巧妙助攻哈维尔破门锁定胜局', 0.014493133644808236), ('京津德比中李磊送出5次抢断、3次拦截和1次解围的全面数据', 0.014492982416835266), ('多奇卡尔先是造成了对手的乌龙球', 0.014492982416835264), ('而且他还助攻伊尔马兹取得进球', 0.014492888362610448), ('此役', 0.014492888362610448), ('中场：姆比亚', 0.01449283125947998), ('多奇卡尔', 0.01449283125947998), ('本轮比赛', 0.01449279761587579), ('他在中场全面的表现也在赛后得到了好评', 0.01449279761587579), ('姆比亚在与权健中场核心维特塞尔的对抗中丝毫不落下风', 0.014492778723111222), ('传球成功率超过90%', 0.01449277872311122), ('最后时刻还用一记制胜球助华夏幸福继续取胜', 0.014492769268417898), ('出任后腰的张晓彬做出5次抢断、4次拦截', 0.014492769268417895), ('张晓彬', 0.01449276641330877), ('其中', 0.014262574345999705), ('亚森可谓是救火教练的典范', 0.014262574345999705), ('中超第13轮已经全部战罢', 0.012392892628860208), ('你心目中', 0.012392892628860206), ('上周周末', 0.010486553732400504), ('本轮的最佳球员是谁', 0.010486553732400504)]\n"
     ]
    },
    {
     "data": {
      "text/plain": [
       "'广州恒大战胜贵州恒丰智诚，豪取联赛九连胜的同时继续领跑积分榜，队内的曾诚与张琳芃也入选了本轮中超的最佳阵容。门将：曾诚。尽管在国家队表现不佳，但回到俱乐部的曾诚仅用了一场比赛就为自己实现了正名。全场5次扑救则次次关键，而且，曾诚还扑出了耶拉维奇可能扳平比分的点球，力助恒大豪取九连胜。而且比赛中，“塔神”5次射门全部射正，向前传球居多的他，传球成功率竟然高达86%，毫无疑问，本赛季脱胎换骨的塔神已经成为了鲁能进攻中的大腿。此外，河南建业的新任主帅亚森被评选为本轮最佳教练。上任不过三天，亚森就帮助河南建业拿到了本赛季的第二场胜利，换帅如换刀，'"
      ]
     },
     "execution_count": 167,
     "metadata": {},
     "output_type": "execute_result"
    }
   ],
   "source": [
    "get_summarization_simple_with_text_rank(news, 250)"
   ]
  },
  {
   "cell_type": "code",
   "execution_count": null,
   "metadata": {},
   "outputs": [],
   "source": []
  }
 ],
 "metadata": {
  "kernelspec": {
   "display_name": "Python 3",
   "language": "python",
   "name": "python3"
  },
  "language_info": {
   "codemirror_mode": {
    "name": "ipython",
    "version": 3
   },
   "file_extension": ".py",
   "mimetype": "text/x-python",
   "name": "python",
   "nbconvert_exporter": "python",
   "pygments_lexer": "ipython3",
   "version": "3.6.8"
  }
 },
 "nbformat": 4,
 "nbformat_minor": 2
}
